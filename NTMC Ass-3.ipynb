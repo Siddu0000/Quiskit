import numpy as np
from qiskit import QuantumCircuit, QuantumRegister, ClassicalRegister, execute, Aer
from qiskit.circuit.library import QFT
from qiskit.visualization import plot_histogram
from qiskit import transpile
from qiskit.circuit import ParameterVector
from random import choice, sample

# Step 1: Preparation of quantum states and decoy photons
num_parties = 4  # Adjust this value for more parties
d = 4  # Modulus for addition
num_states = 3  # Number of states to prepare (based on N)

# Create quantum and classical registers for the process
qubits = QuantumRegister(num_parties * num_states, 'qubits')  # one qubit for each party in each state
classical_bits = ClassicalRegister(num_parties * num_states, 'classical_bits')
qc = QuantumCircuit(qubits, classical_bits)

# Create entangled states for each of the num_states
for i in range(num_states):
    qc.h(qubits[i * num_parties])  # Create superposition on the first qubit of each set
    for j in range(1, num_parties):
        qc.cx(qubits[i * num_parties], qubits[i * num_parties + j])  # Create entanglement in the group

# Create decoy photons (for eavesdropping detection)
decoy_indices = [i * num_parties + j for i in range(num_states) for j in range(1, num_parties)]
decoys = sample(decoy_indices, num_parties - 1)  # Randomly select decoys

# Step 2: Transmission with decoy checking
# Here, Party 1 keeps one particle from each state and sends others to the corresponding party
# Adding decoys to random positions in the transmitted sequences

# For each party (excluding Party 1), we check the decoy positions and measurement basis
for party in range(1, num_parties):
    # Identify the indices for this party's qubits
    party_qubits = [i * num_parties + party for i in range(num_states)]

    # Insert decoy photons into the sequence
    for decoy in decoys:
        # Simulate decoy insertion by applying random basis
        if decoy in party_qubits:
            basis_choice = choice([0, 1])  # Randomly choose between V1 and V2
            if basis_choice == 1:
                qc.h(qubits[decoy])  # Apply Hadamard if basis is V2
    
    # Measure the decoy photons to check for eavesdropping
    for decoy in decoys:
        qc.measure(qubits[decoy], classical_bits[decoy])

# Attacker functions for outside and participant attacks

# Simulate an outsider attack attempting to intercept quantum communication
def outsider_attack_intercept(qc):
    # This function could represent an attempt to intercept quantum communication
    # For simplicity, let's assume the attacker tries to measure some qubits
    for qubit in range(num_parties * num_states):
        qc.measure(qubits[qubit], classical_bits[qubit])

# Simulate a participant attack from a single dishonest party
def participant_attack_single_dishonest(qc, dishonest_party_index):
    # This function could represent a participant attack from a single dishonest party
    # For simplicity, let's assume the dishonest party attempts to intercept quantum communication
    for qubit in range(num_states):
        qc.measure(qubits[qubit * num_parties + dishonest_party_index], classical_bits[qubit * num_parties + dishonest_party_index])

# Apply attacker functions (choose one or both)
# outsider_attack_intercept(qc)
# participant_attack_single_dishonest(qc, 2)  # Specify the index of the dishonest party (2 or 3)

# Step 3: Encoding the secret keys for each party
secret_keys = [[np.random.randint(0, d) for _ in range(num_states)] for _ in range(1, num_parties)]

# Apply transformation operations based on the secret keys
for i in range(1, num_parties):
    for j in range(num_states):
        qubit_index = j * num_parties + i
        qc.rz(2 * np.pi / d * secret_keys[i - 1][j], qubits[qubit_index])  # Apply phase shift based on secret key

# Step 4: Measurement with basis V1
qc.append(QFT(num_parties * num_states, inverse=True), qubits)  # Apply inverse QFT to return to classical
qc.measure(qubits, classical_bits)

# Execute the quantum circuit to obtain the results
backend = Aer.get_backend('qasm_simulator')
job = execute(qc, backend, shots=1024)
result = job.result()

# Step 5: Identify the result of the quantum summation
counts = result.get_counts()
summation_result = max(counts, key=counts.get)  # Most frequent outcome represents the result of the summation

# Output correctness verification for Party 1
# Extract the measurement results for Party 1's qubits
party_1_results = [int(summation_result[i]) for i in range(num_states)]

# Extract the secret keys for Party 1
party_1_keys = [secret_keys[0][i] for i in range(num_states)]

# Calculate the expected result based on the description provided
expected_result = [((party_1_results[i] + party_1_keys[i]) % d) for i in range(num_states)]

# Check if the obtained result matches the expected result
if party_1_results == expected_result:
    print("Output correctness for Party 1: Correct")
else:
    print("Output correctness for Party 1: Incorrect")

# Display the results as a histogram
plot_histogram(counts)

print(f"The result of the quantum summation is: {summation_result}")
